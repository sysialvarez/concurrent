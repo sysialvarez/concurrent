{
 "cells": [
  {
   "cell_type": "code",
   "execution_count": 1,
   "id": "3bef2e15-4b75-42c6-becf-54a403e1325f",
   "metadata": {},
   "outputs": [],
   "source": [
    "import time, urllib.request, multiprocessing as mp, concurrent.futures"
   ]
  },
  {
   "cell_type": "code",
   "execution_count": 12,
   "id": "85e5d512-c82f-4d79-a4c1-b5e881dd9850",
   "metadata": {},
   "outputs": [],
   "source": [
    "def _download_image(image_number):\n",
    "    print(image_number)\n",
    "    image_url = 'https://drive.google.com/uc?export=download&id=1ADxSr55eYTRSRF-44LXnKbY4n5bMWaY-'\n",
    "    try:\n",
    "        with urllib.request.urlopen(image_url, timeout=69) as conn:\n",
    "            return len(conn.read())\n",
    "    except urllib.error.HTTPError:\n",
    "        print('Oh god', image_number)\n",
    "    except Exception as e:\n",
    "        print(e)"
   ]
  },
  {
   "cell_type": "code",
   "execution_count": 13,
   "id": "cacdb6df-910e-4bb4-9182-eb477c09a46e",
   "metadata": {},
   "outputs": [],
   "source": [
    "def par_download_images(image_numbers):\n",
    "    total_bytes = 0\n",
    "    with concurrent.futures.ThreadPoolExecutor() as pool:\n",
    "        futures = [pool.submit(_download_image, num) for num in image_numbers]\n",
    "        for f in concurrent.futures.as_completed(futures):\n",
    "            total_bytes += f.result()\n",
    "    return total_bytes"
   ]
  },
  {
   "cell_type": "code",
   "execution_count": 15,
   "id": "92439424-2de0-49d4-8748-a8b2a5a2f29c",
   "metadata": {},
   "outputs": [
    {
     "name": "stdout",
     "output_type": "stream",
     "text": [
      "1\n",
      "Oh god 1\n"
     ]
    },
    {
     "ename": "TypeError",
     "evalue": "unsupported operand type(s) for +=: 'int' and 'NoneType'",
     "output_type": "error",
     "traceback": [
      "\u001b[0;31m---------------------------------------------------------------------------\u001b[0m",
      "\u001b[0;31mTypeError\u001b[0m                                 Traceback (most recent call last)",
      "Cell \u001b[0;32mIn [15], line 4\u001b[0m\n\u001b[1;32m      2\u001b[0m NUM_EVAL_RUNS \u001b[38;5;241m=\u001b[39m \u001b[38;5;241m5\u001b[39m\n\u001b[1;32m      3\u001b[0m IMAGE_NUMBERS \u001b[38;5;241m=\u001b[39m \u001b[38;5;28mlist\u001b[39m(\u001b[38;5;28mrange\u001b[39m(\u001b[38;5;241m1\u001b[39m,\u001b[38;5;241m2\u001b[39m))\n\u001b[0;32m----> 4\u001b[0m parallel_result \u001b[38;5;241m=\u001b[39m \u001b[43mpar_download_images\u001b[49m\u001b[43m(\u001b[49m\u001b[43mIMAGE_NUMBERS\u001b[49m\u001b[43m)\u001b[49m\n\u001b[1;32m      5\u001b[0m parallel_time \u001b[38;5;241m=\u001b[39m \u001b[38;5;241m0\u001b[39m\n\u001b[1;32m      6\u001b[0m \u001b[38;5;28;01mfor\u001b[39;00m i \u001b[38;5;129;01min\u001b[39;00m \u001b[38;5;28mrange\u001b[39m(NUM_EVAL_RUNS):\n",
      "Cell \u001b[0;32mIn [13], line 6\u001b[0m, in \u001b[0;36mpar_download_images\u001b[0;34m(image_numbers)\u001b[0m\n\u001b[1;32m      4\u001b[0m     futures \u001b[38;5;241m=\u001b[39m [pool\u001b[38;5;241m.\u001b[39msubmit(_download_image, num) \u001b[38;5;28;01mfor\u001b[39;00m num \u001b[38;5;129;01min\u001b[39;00m image_numbers]\n\u001b[1;32m      5\u001b[0m     \u001b[38;5;28;01mfor\u001b[39;00m f \u001b[38;5;129;01min\u001b[39;00m concurrent\u001b[38;5;241m.\u001b[39mfutures\u001b[38;5;241m.\u001b[39mas_completed(futures):\n\u001b[0;32m----> 6\u001b[0m         total_bytes \u001b[38;5;241m+\u001b[39m\u001b[38;5;241m=\u001b[39m f\u001b[38;5;241m.\u001b[39mresult()\n\u001b[1;32m      7\u001b[0m \u001b[38;5;28;01mreturn\u001b[39;00m total_bytes\n",
      "\u001b[0;31mTypeError\u001b[0m: unsupported operand type(s) for +=: 'int' and 'NoneType'"
     ]
    }
   ],
   "source": [
    "if __name__ == '__main__':\n",
    "    NUM_EVAL_RUNS = 5\n",
    "    IMAGE_NUMBERS = list(range(1,2))\n",
    "    parallel_result = par_download_images(IMAGE_NUMBERS)\n",
    "    parallel_time = 0\n",
    "    for i in range(NUM_EVAL_RUNS):\n",
    "        start = time.perf_counter()\n",
    "        par_download_images(IMAGE_NUMBERS)\n",
    "        parallel_time += time.perf_counter() - start\n",
    "    parallel_time /= NUM_EVAL_RUNS"
   ]
  },
  {
   "cell_type": "code",
   "execution_count": null,
   "id": "09dd8e96-f138-4cb0-bcb9-6474fafce8b3",
   "metadata": {},
   "outputs": [],
   "source": []
  }
 ],
 "metadata": {
  "kernelspec": {
   "display_name": "Python 3 (ipykernel)",
   "language": "python",
   "name": "python3"
  },
  "language_info": {
   "codemirror_mode": {
    "name": "ipython",
    "version": 3
   },
   "file_extension": ".py",
   "mimetype": "text/x-python",
   "name": "python",
   "nbconvert_exporter": "python",
   "pygments_lexer": "ipython3",
   "version": "3.10.8"
  }
 },
 "nbformat": 4,
 "nbformat_minor": 5
}
