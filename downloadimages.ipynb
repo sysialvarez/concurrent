{
 "cells": [
  {
   "cell_type": "code",
   "execution_count": 13,
   "id": "c3e62883-addb-4e23-b8a1-4813b5df2519",
   "metadata": {},
   "outputs": [],
   "source": [
    "import time, urllib.request, multiprocessing as mp, concurrent.futures"
   ]
  },
  {
   "cell_type": "code",
   "execution_count": 2,
   "id": "460fc546-fc85-4b52-b445-b362b0eeea56",
   "metadata": {},
   "outputs": [],
   "source": [
    "def seq_download_images(img_numbers):\n",
    "    total_bytes = 0\n",
    "    for num in img_numbers:\n",
    "        total_bytes += _download_image(num)\n",
    "    return total_bytes"
   ]
  },
  {
   "cell_type": "code",
   "execution_count": 16,
   "id": "0003e157-a27e-446e-925b-8cb8ceade7a9",
   "metadata": {},
   "outputs": [],
   "source": [
    "def _download_image(image_number):\n",
    "    print(image_number)\n",
    "    image_url = 'http://699340.youcanlearnit.net/image{:03d}.jpg'.format(image_number)\n",
    "    try:\n",
    "        with urllib.request.urlopen(image_url, timeout=69) as conn:\n",
    "            return len(conn.read())\n",
    "    except urllib.error.HTTPError:\n",
    "        print('Oh god', image_number)\n",
    "    except Exception as e:\n",
    "        print(e)"
   ]
  },
  {
   "cell_type": "code",
   "execution_count": 15,
   "id": "86cd0e0b-53b0-4801-80d7-3f7ede9edb15",
   "metadata": {},
   "outputs": [],
   "source": [
    "def par_download_images(image_numbers):\n",
    "    total_bytes = 0\n",
    "    with concurrent.futures.ThreadPoolExecutor() as pool:\n",
    "        futures = [pool.submit(_download_image, num) for num in image_numbers]\n",
    "        for f in concurrent.futures.as_completed(futures):\n",
    "            total_bytes += f.result()\n",
    "    return total_bytes"
   ]
  },
  {
   "cell_type": "code",
   "execution_count": 17,
   "id": "c6532daf-a184-4c46-a294-525f18840408",
   "metadata": {},
   "outputs": [
    {
     "name": "stdout",
     "output_type": "stream",
     "text": [
      "1\n",
      "2\n",
      "3\n",
      "0\n",
      "1\n",
      "2\n",
      "3\n",
      "1\n",
      "1\n",
      "2\n",
      "3\n",
      "2\n",
      "1\n",
      "2\n",
      "3\n",
      "12\n",
      "\n",
      "3\n",
      "1\n",
      "2\n",
      "3\n",
      "12\n",
      "\n",
      "3\n",
      "1\n",
      "2\n",
      "3\n",
      "Average Sequential Time: 2878.64 ms\n",
      "Average Parallel Time: 955.16 ms\n",
      "Speedup: 3.01\n",
      "Efficiency: 37.67%\n"
     ]
    }
   ],
   "source": [
    "if __name__ == '__main__':\n",
    "    NUM_EVAL_RUNS = 3\n",
    "    IMAGE_NUMBERS = list(range(1,4))\n",
    "    sequential_result = seq_download_images(IMAGE_NUMBERS)\n",
    "    sequential_time = 0\n",
    "    for i in range(NUM_EVAL_RUNS):\n",
    "        print(i)\n",
    "        start = time.perf_counter()\n",
    "        seq_download_images(IMAGE_NUMBERS)\n",
    "        sequential_time += time.perf_counter() - start\n",
    "    sequential_time /= NUM_EVAL_RUNS\n",
    "    parallel_result = par_download_images(IMAGE_NUMBERS)\n",
    "    parallel_time = 0\n",
    "    for i in range(NUM_EVAL_RUNS):\n",
    "        start = time.perf_counter()\n",
    "        par_download_images(IMAGE_NUMBERS)\n",
    "        parallel_time += time.perf_counter() - start\n",
    "    parallel_time /= NUM_EVAL_RUNS\n",
    "    if sequential_result != parallel_result:\n",
    "        raise Exception ('sequential_result and parallel_result do not match.')\n",
    "    print('Average Sequential Time: {:.2f} ms'.format(sequential_time*1000))\n",
    "    print('Average Parallel Time: {:.2f} ms'.format(parallel_time*1000))\n",
    "    print('Speedup: {:.2f}'.format(sequential_time/parallel_time))\n",
    "    print('Efficiency: {:.2f}%'.format(100*(sequential_time/parallel_time)/mp.cpu_count()))"
   ]
  },
  {
   "cell_type": "code",
   "execution_count": null,
   "id": "53455629-5691-41a0-b6b8-967a315e889a",
   "metadata": {},
   "outputs": [],
   "source": []
  }
 ],
 "metadata": {
  "kernelspec": {
   "display_name": "Python 3 (ipykernel)",
   "language": "python",
   "name": "python3"
  },
  "language_info": {
   "codemirror_mode": {
    "name": "ipython",
    "version": 3
   },
   "file_extension": ".py",
   "mimetype": "text/x-python",
   "name": "python",
   "nbconvert_exporter": "python",
   "pygments_lexer": "ipython3",
   "version": "3.10.6"
  }
 },
 "nbformat": 4,
 "nbformat_minor": 5
}
